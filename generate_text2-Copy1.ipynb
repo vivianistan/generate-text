{
 "cells": [
  {
   "cell_type": "markdown",
   "metadata": {},
   "source": [
    "# Intermediate Report:"
   ]
  },
  {
   "cell_type": "markdown",
   "metadata": {},
   "source": [
    "Vivian Tan (vyt73)"
   ]
  },
  {
   "cell_type": "markdown",
   "metadata": {},
   "source": [
    "The overall project is based on applications of language models, more specifically text generation based on n-grams. Random text generation can be useful for designers to use in different settings such as web applications, site templates, and topography demos.  \n",
    "\n",
    "I will be using the n-gram language model to complete this project, starting with bigrams and then moving to trigrams if time permits. I will also use Maximum Likelihood Estimation (MLE) to calculate the probabilities used to select subsequent words. To store the texts, I will be using lists of strings/tokens for each work. Eventually, I hope to combine different works from the same author into a single list. \n",
    "\n",
    "I'll use texts from Project Gutenberg as my corpus, more specifically, from these Authors: (may remove/add authors based on progress)\n",
    "\n",
    "- Jane Austen\n",
    "- G.K. Chesterton\n",
    "- William Shakespeare\n",
    "- Arthur Conan Doyle\n",
    "- Fyodor Dostoyevsky\n",
    "\n",
    "Below I will discuss my initial results."
   ]
  },
  {
   "cell_type": "markdown",
   "metadata": {},
   "source": [
    "##  Initial results: "
   ]
  },
  {
   "cell_type": "markdown",
   "metadata": {},
   "source": [
    "This project is based on applications of language models, more specifically text generation based on n-grams. \n",
    "The end goal is to generate a random text based on two different author's writing styles, but for this initial report we will: \n",
    "\n",
    "- explore different methods to generate a random text from a single work \n",
    "- explore different techniques to get works from URLs"
   ]
  },
  {
   "cell_type": "markdown",
   "metadata": {},
   "source": [
    "## Generating text: "
   ]
  },
  {
   "cell_type": "markdown",
   "metadata": {},
   "source": [
    "First, let's generate a random text from a single work:"
   ]
  },
  {
   "cell_type": "markdown",
   "metadata": {},
   "source": [
    "### Using bigrams and MLE by hand: (based on hw code)"
   ]
  },
  {
   "cell_type": "markdown",
   "metadata": {},
   "source": [
    "This first technique is from one of the homework assignments. It generates text by counting the bigrams for a text and calculating the probabilities for each then using these to generate the next word. It could easily be modified to account for trigrams. I tested out the text generation with a text from the Gutenberg library, \"Emma\". The results show that we can generate a fairly coherent paragraph based on a single text using this technique. Let's try another technique:"
   ]
  },
  {
   "cell_type": "markdown",
   "metadata": {},
   "source": [
    "### Generating text using nltk: "
   ]
  },
  {
   "cell_type": "markdown",
   "metadata": {},
   "source": [
    "Based on: http://www.katrinerk.com/courses/python-worksheets/language-models-in-python"
   ]
  },
  {
   "cell_type": "markdown",
   "metadata": {},
   "source": [
    "This technique requires less lines of code since it just uses some built-in nltk functions. However, this method is limited to only bigrams. "
   ]
  },
  {
   "cell_type": "markdown",
   "metadata": {},
   "source": [
    "This technique can also generate a paragraph based on a single text, but it doesn't quite seem as cohesive as the previous generated paragraph. It's sufficient for our purposes though. I think I may use the 2nd technique if I want to test text generation quickly and use the 1st technique with trigrams for the final result. "
   ]
  },
  {
   "cell_type": "markdown",
   "metadata": {},
   "source": [
    "Now that we know that we can generate text from a single work, the next step would be to generate a single text from multiple works. To do that, we need to know how to pull multiple works from online sources. Next we will explore different techniquess to get texts online."
   ]
  },
  {
   "cell_type": "markdown",
   "metadata": {},
   "source": [
    "## Getting multiple works online:\n"
   ]
  },
  {
   "cell_type": "markdown",
   "metadata": {},
   "source": [
    "### Through the nltk corpus:"
   ]
  },
  {
   "cell_type": "markdown",
   "metadata": {},
   "source": [
    "The nltk gutenberg corpus comes with a few works, but it doesn't have all the authors I want or enough works for each author (probably want at least 5 for each). "
   ]
  },
  {
   "cell_type": "markdown",
   "metadata": {},
   "source": [
    "However, if we decide to scale our project down to these works, we could save each of the texts and then concatenate them later. Let's see if we can get books directly from the Gutenberg website: "
   ]
  },
  {
   "cell_type": "markdown",
   "metadata": {},
   "source": [
    "### Through URLS: "
   ]
  },
  {
   "cell_type": "markdown",
   "metadata": {},
   "source": [
    "To get text through URLs, I used the urllib library to retrieve data from urls. I was able to get a text file using the url successfully using this library."
   ]
  },
  {
   "cell_type": "markdown",
   "metadata": {},
   "source": [
    "I could also successfully generate a random text from a file pulled from a url, which will be useful in future work."
   ]
  },
  {
   "cell_type": "markdown",
   "metadata": {},
   "source": [
    "# Conclusion\n"
   ]
  },
  {
   "cell_type": "markdown",
   "metadata": {},
   "source": [
    "In this intermediate report we were able to: \n",
    "- Generate random text from a single file using 2 techniques\n",
    "- Retrieve works from the nltk Gutenberg corpus\n",
    "- Retrieve a text file from a URL and generate a text from it\n",
    "\n",
    "The next steps will be: \n",
    "- Retrieve multiple texts from URLs\n",
    "- Combine multiple books for each author\n",
    "- Generate a text based on two texts/authors"
   ]
  },
  {
   "cell_type": "code",
   "execution_count": null,
   "metadata": {
    "collapsed": true
   },
   "outputs": [],
   "source": []
  }
 ],
 "metadata": {
  "kernelspec": {
   "display_name": "Python 3",
   "language": "python",
   "name": "python3"
  },
  "language_info": {
   "codemirror_mode": {
    "name": "ipython",
    "version": 3
   },
   "file_extension": ".py",
   "mimetype": "text/x-python",
   "name": "python",
   "nbconvert_exporter": "python",
   "pygments_lexer": "ipython3",
   "version": "3.5.2"
  }
 },
 "nbformat": 4,
 "nbformat_minor": 2
}
